{
 "cells": [
  {
   "cell_type": "code",
   "execution_count": 1,
   "metadata": {},
   "outputs": [],
   "source": [
    "import os\n",
    "os.chdir(\"../\")"
   ]
  },
  {
   "cell_type": "code",
   "execution_count": 2,
   "metadata": {},
   "outputs": [],
   "source": [
    "from dataclasses import dataclass\n",
    "from pathlib import Path\n",
    "\n",
    "@dataclass(frozen=True)\n",
    "class ImageIngestionConfig:\n",
    "    root_dir: Path\n",
    "    url: str\n",
    "    save_img_original: Path\n",
    "    save_img_low_res: Path\n",
    "    pca_components: int\n",
    "\n",
    "\n",
    "    "
   ]
  },
  {
   "cell_type": "code",
   "execution_count": 3,
   "metadata": {},
   "outputs": [
    {
     "name": "stdout",
     "output_type": "stream",
     "text": [
      "[2024-05-09 14:43:01,189: WARNING: module_wrapper: From c:\\Users\\Maza\\Desktop\\Image_enhance\\venv\\Lib\\site-packages\\tf_keras\\src\\losses.py:2976: The name tf.losses.sparse_softmax_cross_entropy is deprecated. Please use tf.compat.v1.losses.sparse_softmax_cross_entropy instead.\n",
      ":]\n"
     ]
    }
   ],
   "source": [
    "from Image_enhance.constants import *\n",
    "from Image_enhance.utils.common import read_yaml, create_directories\n",
    "from Image_enhance import logger\n",
    "import requests\n",
    "import imageio\n",
    "import cv2\n",
    "from sklearn.decomposition import PCA\n",
    "import numpy as np\n",
    "import time"
   ]
  },
  {
   "cell_type": "code",
   "execution_count": 4,
   "metadata": {},
   "outputs": [],
   "source": [
    "class ConfigurationManager:\n",
    "    def __init__(\n",
    "        self,\n",
    "        config_filepath= CONFIG_FILE_PATH,\n",
    "        params_filepath= PARAMS_FILE_PATH):\n",
    "        \"\"\"\n",
    "        Initializes ConfigurationManager with provided filepaths.\n",
    "\n",
    "        Args:\n",
    "            config_filepath (str): Filepath to configuration file. Defaults to CONFIG_FILE_PATH.\n",
    "            params_filepath (str): Filepath to parameters file. Defaults to PARAMS_FILE_PATH.\n",
    "        \"\"\"\n",
    "        self.config = read_yaml(config_filepath)\n",
    "        self.params = read_yaml(params_filepath)\n",
    "\n",
    "    \n",
    "    def get_image_ingestion_config(self) -> ImageIngestionConfig:\n",
    "        \"\"\"\n",
    "        Retrieves image ingestion configuration settings.\n",
    "\n",
    "        Returns:\n",
    "            image_ingestion_config (ImageIngestionConfig): Image ingestion configuration object.\n",
    "        \"\"\"\n",
    "        config = self.config.data_ingestion\n",
    "\n",
    "        create_directories([config.root_dir])\n",
    "\n",
    "        image_ingestion_config = ImageIngestionConfig(\n",
    "            root_dir=config.root_dir,\n",
    "            url=config.url,\n",
    "            save_img_original=config.save_img_original,\n",
    "            save_img_low_res=config.save_img_low_res,\n",
    "            pca_components = self.params.PCA.PCA_COMPONENTS\n",
    "        )\n",
    "\n",
    "        return image_ingestion_config\n",
    "\n"
   ]
  },
  {
   "cell_type": "code",
   "execution_count": 5,
   "metadata": {},
   "outputs": [],
   "source": [
    "class ImageProcessor:\n",
    "    def __init__(self, config:ImageIngestionConfig):\n",
    "        self.config = config\n",
    "\n",
    "    def save_img_from_url(self):\n",
    "        url = self.config.url\n",
    "        self.save_original_img_path = self.config.save_img_original\n",
    "        logger.info(f\"Image obtained from : {url}\")\n",
    "        response = requests.get(url)\n",
    "        with open(self.save_original_img_path, \"wb\") as f:\n",
    "            f.write(response.content)\n",
    "        logger.info(f\"Image saved  in file: {self.save_original_img_path}\")\n",
    "        \n",
    "\n",
    "\n",
    "\n",
    "    def decrese_img_resloution(self):\n",
    "        logger.info(f\"Decreasing the quality of the original image\")\n",
    "        save_low_res_img_path = self.config.save_img_low_res\n",
    "        pca_components = self.config.pca_components\n",
    "\n",
    "        img = cv2.cvtColor(cv2.imread(self.save_original_img_path),cv2.COLOR_BGR2RGB)\n",
    "        logger.info(f\"Image loaded from {self.save_original_img_path}\")\n",
    "        #split by componenets\n",
    "        r,g,b = cv2.split(img)\n",
    "        #normalize\n",
    "        r,g,b = r/255, g/255, b/255\n",
    "\n",
    "        #PCA components\n",
    "        logger.info(f\"Initializing PCA\")\n",
    "        pca_r = PCA(n_components=pca_components)\n",
    "        reduced_r = pca_r.fit_transform(r)\n",
    "\n",
    "        pca_g = PCA(n_components=pca_components)\n",
    "        reduced_g = pca_g.fit_transform(g)\n",
    "\n",
    "\n",
    "        pca_b = PCA(n_components=pca_components)\n",
    "        reduced_b = pca_b.fit_transform(b)\n",
    "\n",
    "\n",
    "        reconstructed_r = pca_r.inverse_transform(reduced_r)* 255\n",
    "        reconstructed_g = pca_g.inverse_transform(reduced_g)* 255\n",
    "        reconstructed_b = pca_b.inverse_transform(reduced_b)* 255\n",
    "        img_reconstructed = (cv2.merge((reconstructed_r,reconstructed_g,reconstructed_b)))\n",
    "        img_reconstructed_transfomred = img_reconstructed.astype(np.uint8)\n",
    "        logger.info(f\"Original image components: {img.shape}\")\n",
    "        logger.info(f\"Low resolution image components: {img_reconstructed_transfomred.shape}\")\n",
    "\n",
    "        imageio.imwrite(save_low_res_img_path, img_reconstructed_transfomred)\n",
    "        logger.info(f\"Low resolution image loaded to {save_low_res_img_path}\")\n",
    "\n",
    "\n",
    "\n",
    "\n",
    "        \n",
    "\n"
   ]
  },
  {
   "cell_type": "code",
   "execution_count": 6,
   "metadata": {},
   "outputs": [
    {
     "name": "stdout",
     "output_type": "stream",
     "text": [
      "[2024-05-09 14:43:03,237: INFO: common: yaml file: config\\config.yaml loaded successfully:]\n",
      "[2024-05-09 14:43:03,239: INFO: common: yaml file: params.yaml loaded successfully:]\n",
      "[2024-05-09 14:43:03,242: INFO: common: created directory at: artifacts/data_ingestion:]\n",
      "[2024-05-09 14:43:03,243: INFO: 1031633362: Image obtained from : https://user-images.githubusercontent.com/12981474/40157448-eff91f06-5953-11e8-9a37-f6b5693fa03f.png:]\n",
      "[2024-05-09 14:43:03,602: INFO: 1031633362: Image saved  in file: artifacts/data_ingestion/monkey.png:]\n",
      "[2024-05-09 14:43:03,602: INFO: 1031633362: Decreasing the quality of the original image:]\n",
      "[2024-05-09 14:43:03,619: INFO: 1031633362: Image loaded from artifacts/data_ingestion/monkey.png:]\n",
      "[2024-05-09 14:43:03,619: INFO: 1031633362: Initializing PCA:]\n",
      "[2024-05-09 14:43:03,655: INFO: 1031633362: Original image components: (120, 125, 3):]\n",
      "[2024-05-09 14:43:03,668: INFO: 1031633362: Low resolution image components: (120, 125, 3):]\n",
      "[2024-05-09 14:43:03,750: INFO: 1031633362: Low resolution image loaded to artifacts/data_ingestion/monkey_low_res.png:]\n",
      "[2024-05-09 14:43:03,752: INFO: 1885473477: Image processor latency: 0.5169 seconds:]\n"
     ]
    }
   ],
   "source": [
    "start = time.time()\n",
    "image_ingestion_config = ConfigurationManager()\n",
    "config = image_ingestion_config.get_image_ingestion_config()\n",
    "image_processor = ImageProcessor(config)\n",
    "image_processor.save_img_from_url()\n",
    "image_processor.decrese_img_resloution()\n",
    "logger.info(f\"Image processor latency: {(time.time() - start):.4f} seconds\")"
   ]
  },
  {
   "cell_type": "code",
   "execution_count": null,
   "metadata": {},
   "outputs": [],
   "source": []
  },
  {
   "cell_type": "code",
   "execution_count": null,
   "metadata": {},
   "outputs": [],
   "source": []
  }
 ],
 "metadata": {
  "kernelspec": {
   "display_name": "venv",
   "language": "python",
   "name": "python3"
  },
  "language_info": {
   "codemirror_mode": {
    "name": "ipython",
    "version": 3
   },
   "file_extension": ".py",
   "mimetype": "text/x-python",
   "name": "python",
   "nbconvert_exporter": "python",
   "pygments_lexer": "ipython3",
   "version": "3.11.9"
  }
 },
 "nbformat": 4,
 "nbformat_minor": 2
}
