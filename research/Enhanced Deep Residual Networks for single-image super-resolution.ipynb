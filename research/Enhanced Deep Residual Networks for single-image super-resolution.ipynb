{
 "cells": [
  {
   "cell_type": "code",
   "execution_count": 1,
   "metadata": {},
   "outputs": [],
   "source": [
    "import os\n",
    "os.chdir(\"../\")"
   ]
  },
  {
   "cell_type": "code",
   "execution_count": 8,
   "metadata": {},
   "outputs": [],
   "source": [
    "from dataclasses import dataclass\n",
    "from pathlib import Path\n",
    "\n",
    "@dataclass(frozen=True)\n",
    "class ImageEnhancerConfig:\n",
    "    load_img_low_res: Path\n",
    "    save_high_res_img: Path\n",
    "    model_url: str"
   ]
  },
  {
   "cell_type": "code",
   "execution_count": 9,
   "metadata": {},
   "outputs": [],
   "source": [
    "from Image_enhance.constants import *\n",
    "from Image_enhance.utils.common import read_yaml,  create_directories\n",
    "from Image_enhance import logger"
   ]
  },
  {
   "cell_type": "code",
   "execution_count": 10,
   "metadata": {},
   "outputs": [],
   "source": [
    "class ConfigurationManager:\n",
    "    def __init__(\n",
    "        self,\n",
    "        config_filepath= CONFIG_FILE_PATH,\n",
    "        params_filepath= PARAMS_FILE_PATH):\n",
    "        \"\"\"\n",
    "        Initializes ConfigurationManager with provided filepaths.\n",
    "\n",
    "        Args:\n",
    "            config_filepath (str): Filepath to configuration file. Defaults to CONFIG_FILE_PATH.\n",
    "            params_filepath (str): Filepath to parameters file. Defaults to PARAMS_FILE_PATH.\n",
    "        \"\"\"\n",
    "        self.config = read_yaml(config_filepath)\n",
    "        self.params = read_yaml(params_filepath)\n",
    "\n",
    "    \n",
    "    def get_image_enhancer_config(self) -> ImageEnhancerConfig:\n",
    "        \"\"\"\n",
    "        Retrieves image ingestion configuration settings.\n",
    "\n",
    "        Returns:\n",
    "            image_ingestion_config (ImageIngestionConfig): Image ingestion configuration object.\n",
    "        \"\"\"\n",
    "        config = self.config.image_enhance\n",
    "        \n",
    "        image_enhancer_config = ImageEnhancerConfig(\n",
    "            load_img_low_res=config.load_img_low_res,\n",
    "            save_high_res_img=config.save_high_res_img,\n",
    "            model_url=self.params.ENHANCE.MODEL_URL\n",
    "        )\n",
    "\n",
    "        return image_enhancer_config\n",
    "\n"
   ]
  },
  {
   "cell_type": "code",
   "execution_count": 11,
   "metadata": {},
   "outputs": [],
   "source": [
    "import numpy as np\n",
    "import tensorflow as tf\n",
    "import tensorflow_hub as hub\n",
    "import imageio\n",
    "import time"
   ]
  },
  {
   "cell_type": "code",
   "execution_count": 12,
   "metadata": {},
   "outputs": [],
   "source": [
    "class ImageEnhacer():\n",
    "    def __init__(self, config:ImageEnhancerConfig):\n",
    "        self.config=config\n",
    "    \n",
    "    def preprocess_image(self):\n",
    "        \"\"\"\n",
    "        Preprocesses an image to make it ready for the model.\n",
    "\n",
    "        Inputs:\n",
    "            image_path (str): Path to the image file.\n",
    "\n",
    "        Outputs:\n",
    "            tf.Tensor: Processed image tensor ready for model input.\n",
    "        \"\"\"\n",
    "\n",
    "        load_low_res_img_path = self.config.load_img_low_res\n",
    "        # Read the image file and decode it into a tensor.\n",
    "        image = tf.image.decode_image(tf.io.read_file(load_low_res_img_path))\n",
    "        logger.info(f\"Image obtained from : {load_low_res_img_path}\")\n",
    "\n",
    "        logger.info(f\"Transfroming image into a tensor\")\n",
    "        # If PNG, remove the alpha channel. The model only supports images with 3 color channels.\n",
    "        if image.shape[-1] == 4:\n",
    "            image = image[...,:-1]\n",
    "\n",
    "        # get image dimension  divisible by 4\n",
    "        image_size = (tf.convert_to_tensor(image.shape[:-1]) // 4) * 4\n",
    "\n",
    "\n",
    "        # Crop the image to ensure its dimensions are divisible by 4.\n",
    "        image = tf.image.crop_to_bounding_box(image, 0, 0, image_size[0], image_size[1])\n",
    "        \n",
    "        # Convert the image to float32 data type.\n",
    "        image = tf.cast(image, tf.float32)\n",
    "\n",
    "        # Expand the dimensions of the image tensor to match the expected input shape of the model.\n",
    "        logger.info(f\"Returning tensor image\")\n",
    "        return tf.expand_dims(image, 0)\n",
    "    \n",
    "    def low_to_high_res(self, image_tensor):\n",
    "        # Load Model\n",
    "        model_url = self.config.model_url\n",
    "        save_high_res_img_path = self.config.save_high_res_img\n",
    "        print(model_url)\n",
    "        model = hub.load(model_url)\n",
    "        logger.info(f\"Model loaded succesfully from {model_url}\")\n",
    "\n",
    "        high_res_img = model(image_tensor)\n",
    "        high_res_img = tf.squeeze(high_res_img)\n",
    "        high_res_img = high_res_img.numpy()\n",
    "\n",
    "        high_res_img = high_res_img.astype(np.uint8)\n",
    "        logger.info(f\"Low resolution image components {image_tensor.shape}\")\n",
    "        logger.info(f\"High resolution image components {high_res_img.shape}\")\n",
    "        \n",
    "        imageio.imwrite(save_high_res_img_path, high_res_img)\n",
    "        logger.info(f\"High resolution image saved in  {save_high_res_img_path}\")\n",
    "        \n",
    "\n",
    "\n",
    "\n",
    "\n",
    "\n",
    "\n",
    "    "
   ]
  },
  {
   "cell_type": "code",
   "execution_count": 13,
   "metadata": {},
   "outputs": [
    {
     "name": "stdout",
     "output_type": "stream",
     "text": [
      "[2024-05-09 16:38:29,381: INFO: common: yaml file: config\\config.yaml loaded successfully:]\n",
      "[2024-05-09 16:38:29,383: INFO: common: yaml file: params.yaml loaded successfully:]\n",
      "[2024-05-09 16:38:29,387: INFO: 2337365: Image obtained from : artifacts/data_ingestion/monkey_low_res.png:]\n",
      "[2024-05-09 16:38:29,388: INFO: 2337365: Transfroming image into a tensor:]\n",
      "[2024-05-09 16:38:29,393: INFO: 2337365: Returning tensor image:]\n",
      "https://tfhub.dev/captain-pool/esrgan-tf2/1\n",
      "[2024-05-09 16:38:33,778: INFO: load: Fingerprint not found. Saved model loading will continue.:]\n",
      "[2024-05-09 16:38:33,780: INFO: load: path_and_singleprint metric could not be logged. Saved model loading will continue.:]\n",
      "[2024-05-09 16:38:33,781: INFO: 2337365: Model loaded succesfully from https://tfhub.dev/captain-pool/esrgan-tf2/1:]\n",
      "[2024-05-09 16:38:37,081: INFO: 2337365: Low resolution image components (1, 120, 124, 3):]\n",
      "[2024-05-09 16:38:37,082: INFO: 2337365: High resolution image components (480, 496, 3):]\n",
      "[2024-05-09 16:38:37,200: INFO: 2337365: High resolution image saved in  artifacts/data_ingestion/monkey_high_res.png:]\n",
      "[2024-05-09 16:38:37,216: INFO: 3807650339: Image processor latency: 7.8357 seconds:]\n"
     ]
    }
   ],
   "source": [
    "start = time.time()\n",
    "configuration_manager = ConfigurationManager()\n",
    "image_enhance_config = configuration_manager.get_image_enhancer_config()\n",
    "image_enhancer = ImageEnhacer(image_enhance_config)\n",
    "low_res_image_tensor = image_enhancer.preprocess_image()\n",
    "image_enhancer.low_to_high_res(low_res_image_tensor)\n",
    "logger.info(f\"Image processor latency: {(time.time() - start):.4f} seconds\")\n"
   ]
  },
  {
   "cell_type": "code",
   "execution_count": null,
   "metadata": {},
   "outputs": [],
   "source": []
  }
 ],
 "metadata": {
  "kernelspec": {
   "display_name": "venv",
   "language": "python",
   "name": "python3"
  },
  "language_info": {
   "codemirror_mode": {
    "name": "ipython",
    "version": 3
   },
   "file_extension": ".py",
   "mimetype": "text/x-python",
   "name": "python",
   "nbconvert_exporter": "python",
   "pygments_lexer": "ipython3",
   "version": "3.11.9"
  }
 },
 "nbformat": 4,
 "nbformat_minor": 2
}
